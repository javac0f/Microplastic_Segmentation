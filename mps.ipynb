{
 "cells": [
  {
   "cell_type": "code",
   "execution_count": 22,
   "metadata": {},
   "outputs": [
    {
     "name": "stdout",
     "output_type": "stream",
     "text": [
      "Using: cpu\n"
     ]
    }
   ],
   "source": [
    "# DS LIBS\n",
    "import numpy as np\n",
    "import pandas as pd\n",
    "\n",
    "# VISUALIZATION LIBS\n",
    "import cv2\n",
    "from pprint import pprint\n",
    "\n",
    "# OS LIBS\n",
    "import os\n",
    "import config\n",
    "from pathlib import Path\n",
    "\n",
    "\n",
    "# DL LIBS\n",
    "import unet\n",
    "import torch\n",
    "import torch.nn as nn\n",
    "from torch.nn.functional import relu\n",
    "from torchvision import models, transforms\n",
    "from sklearn.model_selection import train_test_split\n",
    "\n",
    "\n",
    "\n",
    "device = \"cuda:0\" if torch.cuda.is_available() else \"cpu\"\n",
    "device = torch.device(device)\n",
    "print(\"Using: \" + str(device))"
   ]
  },
  {
   "cell_type": "code",
   "execution_count": 8,
   "metadata": {},
   "outputs": [],
   "source": [
    "def prep_image(file_path:str):\n",
    "    \n",
    "    # IMAGE TRANSFORMS\n",
    "    img_array = cv2.imread(file_path)\n",
    "    img_array = cv2.resize(img_array, (config.IMAGE_SIZE , config.IMAGE_SIZE))\n",
    "    #img_array = cv2.cvtColor(img_array, cv2.COLOR_BGR2RGB)\n",
    "\n",
    "    \n",
    "    # GET IMAGE STATISTICS\n",
    "    img_mean, img_std = np.mean(img_array, axis=(0, 1)), np.std(img_array, axis=(0, 1))\n",
    "\n",
    "    # TORCH TRANSFORMS\n",
    "    tensor_transforms = transforms.Compose([transforms.ToTensor(),\n",
    "                                             transforms.Normalize(mean=img_mean,std=img_std)\n",
    "                                            ])\n",
    "    \n",
    "    # APPLY TENSOR TRANSFORMS TO IMAGE \n",
    "    return tensor_transforms(img_array) "
   ]
  },
  {
   "cell_type": "code",
   "execution_count": 9,
   "metadata": {},
   "outputs": [
    {
     "name": "stdout",
     "output_type": "stream",
     "text": [
      "(2048, 2048, 3)\n",
      "(2048, 2048, 3)\n"
     ]
    }
   ],
   "source": [
    "# TESTING OUR IMAGES\n",
    "test_path = 'D4-Control-6-1_1_MMStack_Pos0.ome.tif'\n",
    "full_path = os.path.join(config.X_TRAIN_DATA, test_path)\n",
    "test_img = cv2.imread(full_path)\n",
    "print(test_img.shape)\n",
    "\n",
    "\n",
    "test_path_2 = 'Particle_Thresholded_D4-Control-6-1_1_MMStack_Pos0.ome.png'\n",
    "full_path_2 = os.path.join(config.Y_TRAIN_DATA, test_path_2)\n",
    "test_img_2 = cv2.imread(full_path)\n",
    "print(test_img_2.shape)"
   ]
  },
  {
   "cell_type": "code",
   "execution_count": 10,
   "metadata": {},
   "outputs": [],
   "source": [
    "def prep_image_folder(folder_path:str) -> list:\n",
    "    \n",
    "    imgs:list = []\n",
    "    \n",
    "    for file_path in os.listdir(folder_path):\n",
    "        full_path:str = os.path.join(folder_path, file_path)\n",
    "    \n",
    "        imgs.append(prep_image(full_path))\n",
    "    \n",
    "    return imgs"
   ]
  },
  {
   "cell_type": "code",
   "execution_count": 11,
   "metadata": {},
   "outputs": [],
   "source": [
    "raw:list = []\n",
    "gt:list = []\n",
    "\n",
    "\n",
    "# PREP IMAGE FOLDERS\n",
    "raw:list = prep_image_folder(config.X_TRAIN_DATA)\n",
    "gt:list = prep_image_folder(config.Y_TRAIN_DATA)"
   ]
  },
  {
   "cell_type": "code",
   "execution_count": null,
   "metadata": {},
   "outputs": [],
   "source": []
  }
 ],
 "metadata": {
  "kernelspec": {
   "display_name": "base",
   "language": "python",
   "name": "python3"
  },
  "language_info": {
   "codemirror_mode": {
    "name": "ipython",
    "version": 3
   },
   "file_extension": ".py",
   "mimetype": "text/x-python",
   "name": "python",
   "nbconvert_exporter": "python",
   "pygments_lexer": "ipython3",
   "version": "3.11.5"
  }
 },
 "nbformat": 4,
 "nbformat_minor": 2
}
